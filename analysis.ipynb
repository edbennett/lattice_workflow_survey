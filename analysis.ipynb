{
 "cells": [
  {
   "cell_type": "code",
   "execution_count": null,
   "id": "7a230d1a",
   "metadata": {},
   "outputs": [],
   "source": [
    "import os\n",
    "import re\n",
    "import textwrap\n",
    "\n",
    "from collections import Counter, defaultdict\n",
    "\n",
    "import numpy as np\n",
    "import matplotlib.pyplot as plt\n",
    "from matplotlib import cm, font_manager\n",
    "import pandas as pd\n",
    "import seaborn as sns\n",
    "\n",
    "from wordcloud import WordCloud\n",
    "\n",
    "from limesurvey_parser import LimeSurveyParser\n",
    "\n",
    "with open('survey-results.csv', 'r') as f:\n",
    "    content = f.read()\n",
    "\n",
    "parser = LimeSurveyParser(sep_header='%%%')\n",
    "\n",
    "questions = parser.parse_questions(content)"
   ]
  },
  {
   "cell_type": "code",
   "execution_count": null,
   "id": "2f1ee06b",
   "metadata": {},
   "outputs": [],
   "source": [
    "plot_dir = os.environ.get('PLOT_DIR', 'plots')\n",
    "filetype = os.environ.get('EXPORT_FILETYPE', 'svg')\n",
    "\n",
    "fontname = os.environ.get('FONT_FAMILY', 'Calibri')\n",
    "plt.rcParams['font.family'] = fontname\n",
    "plt.rcParams['font.size'] = os.environ.get('FONT_SIZE', 13)\n",
    "heading_font_size = plt.rcParams['font.size'] + 5"
   ]
  },
  {
   "cell_type": "code",
   "execution_count": null,
   "id": "eb0785ee",
   "metadata": {},
   "outputs": [],
   "source": [
    "wc_generator = WordCloud(\n",
    "    font_path=font_manager.FontManager().findfont(fontname),\n",
    "    mode='RGBA',\n",
    "    background_color=None,\n",
    "    colormap=cm.get_cmap('brg')\n",
    ")"
   ]
  },
  {
   "cell_type": "code",
   "execution_count": null,
   "id": "a9360a77",
   "metadata": {},
   "outputs": [],
   "source": [
    "orders = {\n",
    "    None: None,\n",
    "    'familiarity': ['Very familiar', 'Somewhat familiar', 'Not very familiar', 'Not at all familiar'],\n",
    "    'binary': ['Yes', 'No'],\n",
    "    'defined': ['None', 'Some', 'All'],\n",
    "    'automation': [\n",
    "        'Each analysis step is run by hand; files must be manually moved or adjusted between steps',\n",
    "        'Each analysis is run by hand, reading in files from previous steps',\n",
    "        'Some groups of steps run automatically, with some manual intervention in between',\n",
    "        'All analysis steps run automatically, but some parameters must be provided '\n",
    "        'for the full pipeline to complete',\n",
    "        'All analysis steps run automatically, and can determine optimal parameters '\n",
    "        'without the need for input beyond the metadata describing the input files',\n",
    "    ],\n",
    "    'freq': ['Never', 'Once or twice, ever', 'Once per year or less', 'Once per month or less', 'Multiple times per month'],\n",
    "    'close': ['Not at all close', 'Not very close', 'Heading in the right direction', 'Very close', 'Exactly there'],\n",
    "    'delay': ['Less than 1 day', '1 day–1 week', '1 week–1 month', 'More than 1 month', 'I did not send the data']\n",
    "}\n",
    "\n",
    "rots = {\n",
    "    None: False,\n",
    "    'familiarity': True,\n",
    "    'binary': False,\n",
    "    'defined': False,\n",
    "    'automation': True,\n",
    "    'freq': True,\n",
    "    'close': True,\n",
    "    'delay': True,\n",
    "}\n",
    "\n",
    "monotonic_scale = defaultdict(lambda : False)\n",
    "monotonic_scale.update({\n",
    "    'familiarity': True,\n",
    "    'defined': True,\n",
    "    'freq': True,\n",
    "    'close': True,\n",
    "    'delay': True\n",
    "})\n",
    "\n",
    "\n",
    "def strip(responses):\n",
    "    return [\n",
    "        re.sub(r'( ?\\(.*\\)| –.*)', '', q)\n",
    "        for q in responses\n",
    "        if isinstance(q, str)\n",
    "    ]\n",
    "\n",
    "\n",
    "def format_ticklabel(text):\n",
    "    return re.sub(\n",
    "        '{.*other.*}', 'Something else', '\\n'.join(textwrap.wrap(text, 50))\n",
    "    )\n",
    "\n",
    "\n",
    "def histogram_singlechoice(questions, question_id, /, rot=None, ax=None, title=None, order=None):\n",
    "    single_question = questions.T.query(f'question_id=={question_id}').T\n",
    "\n",
    "    if title is None:\n",
    "        question_text = single_question.columns.get_level_values('title').values[0]\n",
    "        title = re.match(r'[^?]+\\?', question_text).group(0)\n",
    "\n",
    "    if not ax:\n",
    "        fig, ax = plt.subplots()\n",
    "    else:\n",
    "        fig = ax.figure\n",
    "\n",
    "    if monotonic_scale[order]:\n",
    "        palette = sns.color_palette(\"rocket\", n_colors=len(orders[order]))\n",
    "    else:\n",
    "        palette = None\n",
    "\n",
    "    sns.countplot(\n",
    "        x=strip(questions.T.query(f'question_id=={question_id}').T.values[:, 0]),\n",
    "        ax=ax,\n",
    "        order=orders[order],\n",
    "        palette=palette\n",
    "    )\n",
    "    ax.set_title(title)\n",
    "    \n",
    "    if rot is None:\n",
    "        rot = rots[order]\n",
    "\n",
    "    if rot:\n",
    "        wrapped_ticklabels = []\n",
    "        for ticklabel in ax.get_xticklabels():\n",
    "            ticklabel.set_rotation(45)\n",
    "            ticklabel.set_ha('right')\n",
    "            wrapped_ticklabels.append(format_ticklabel(ticklabel.get_text()))\n",
    "        ax.set_xticklabels(wrapped_ticklabels)\n",
    "        \n",
    "    return fig, ax\n",
    "\n",
    "\n",
    "def strip_multichoice(questions, question_id):\n",
    "    multi_responses = questions.T.query(f'question_id=={question_id}').T\n",
    "    single_responses = []\n",
    "\n",
    "    for answer in multi_responses.columns.get_level_values('answer'):\n",
    "        asked_responses = (\n",
    "            multi_responses.T.query(f'answer==\"{answer}\"').T\n",
    "            .droplevel('answer', axis='columns').droplevel('answer_id', axis='columns')\n",
    "            .dropna()\n",
    "        )\n",
    "        single_response = (asked_responses == \"Yes\").replace(True, answer).replace(False, None)\n",
    "        if not len(single_response.columns):\n",
    "            continue\n",
    "\n",
    "        single_response.columns = pd.MultiIndex.from_tuples(\n",
    "            [(\n",
    "                re.sub(r'\\[.*\\]$', '', single_response.columns.values[0][0]),\n",
    "                *single_response.columns.values[0][1:]\n",
    "            )],\n",
    "            names=single_response.columns.names)\n",
    "        single_responses.append(single_response)\n",
    "    \n",
    "    return pd.concat(single_responses)\n",
    "\n",
    "\n",
    "def histogram_multichoice(questions, question_id, **kwargs):\n",
    "    histogram_singlechoice(strip_multichoice(questions, question_id), question_id, **kwargs)"
   ]
  },
  {
   "cell_type": "code",
   "execution_count": null,
   "id": "eeb31aa6",
   "metadata": {},
   "outputs": [],
   "source": [
    "def savefig(fig, filename_base):\n",
    "    fig.savefig(f'{plot_dir}/{filename_base}.{filetype}')\n",
    "\n",
    "\n",
    "def save_cloud(wordcloud, filename_base):\n",
    "    if filetype == 'svg':\n",
    "        with open(f'{plot_dir}/{filename_base}.svg', 'w') as f:\n",
    "            f.write(wordcloud.to_svg(embed_font=True))\n",
    "    else:\n",
    "        wordcloud.to_file(f'{plot_dir}/{filename_base}.{filetype}')"
   ]
  },
  {
   "cell_type": "code",
   "execution_count": null,
   "id": "974393d7",
   "metadata": {},
   "outputs": [],
   "source": [
    "fig, ax = histogram_singlechoice(questions, 97, order='familiarity')\n",
    "\n",
    "savefig(fig, 'open_science_familiarity')\n",
    "plt.show()"
   ]
  },
  {
   "cell_type": "code",
   "execution_count": null,
   "id": "ecd3687a",
   "metadata": {},
   "outputs": [],
   "source": [
    "fig, ax = histogram_singlechoice(questions, 98, order='familiarity')\n",
    "\n",
    "savefig(fig, 'fair_data_familiarity')\n",
    "plt.show()"
   ]
  },
  {
   "cell_type": "code",
   "execution_count": null,
   "id": "2a80dbf8",
   "metadata": {},
   "outputs": [],
   "source": [
    "fig, ax = histogram_singlechoice(questions, 99, order='binary')\n",
    "\n",
    "savefig(fig, \"open_science_participation\")\n",
    "plt.show()"
   ]
  },
  {
   "cell_type": "code",
   "execution_count": null,
   "id": "a950edf4",
   "metadata": {},
   "outputs": [],
   "source": [
    "Counter(questions['G19Q100'].values[:, 0])"
   ]
  },
  {
   "cell_type": "code",
   "execution_count": null,
   "id": "290b613b",
   "metadata": {},
   "outputs": [],
   "source": [
    "fig, ax = plt.subplots(ncols=2, sharey=True, figsize=(8, 4))\n",
    "\n",
    "fig.suptitle('Does your organisation have an institutional repository…').set_fontsize(heading_font_size)\n",
    "\n",
    "histogram_singlechoice(questions, 101, order='binary', ax=ax[0], title='For publications?')\n",
    "histogram_singlechoice(questions, 102, order='binary', ax=ax[1], title='For data?')\n",
    "\n",
    "ax[1].set_ylabel('')\n",
    "\n",
    "fig.tight_layout(pad=0.3)\n",
    "\n",
    "savefig(fig, \"institutional_repositories\")\n",
    "plt.show()"
   ]
  },
  {
   "cell_type": "code",
   "execution_count": null,
   "id": "a14f04a0",
   "metadata": {},
   "outputs": [],
   "source": [
    "fig, ax = histogram_singlechoice(questions, 103, order='familiarity')\n",
    "\n",
    "savefig(fig, \"eosc_familiarity\")\n",
    "plt.show()"
   ]
  },
  {
   "cell_type": "code",
   "execution_count": null,
   "id": "03a54d09",
   "metadata": {},
   "outputs": [],
   "source": [
    "fig, ax = plt.subplots(ncols=3, sharey=True, figsize=(10, 4))\n",
    "\n",
    "fig.suptitle('How familiar are you with…').set_fontsize(heading_font_size)\n",
    "\n",
    "histogram_singlechoice(questions, 105, ax=ax[0], title='The concept of metadata?',  order='familiarity')\n",
    "histogram_singlechoice(questions, 106, ax=ax[1], title='Metadata schemas for lattice?',  order='familiarity')\n",
    "histogram_singlechoice(questions, 107, ax=ax[2], title='The concept of ontologies?', order='familiarity')\n",
    "\n",
    "ax[1].set_ylabel('')\n",
    "ax[2].set_ylabel('')\n",
    "\n",
    "fig.tight_layout(pad=0.3)\n",
    "\n",
    "savefig(fig, \"metadata_familiarity\")\n",
    "plt.show()"
   ]
  },
  {
   "cell_type": "code",
   "execution_count": null,
   "id": "5b240835",
   "metadata": {},
   "outputs": [],
   "source": [
    "fig, ax = histogram_singlechoice(questions, 108, order='binary')\n",
    "\n",
    "savefig(fig, \"data_management_plan\")\n",
    "plt.show()"
   ]
  },
  {
   "cell_type": "code",
   "execution_count": null,
   "id": "4d280c1b",
   "metadata": {},
   "outputs": [],
   "source": [
    "fig, ax = histogram_singlechoice(questions, 109, order='familiarity')\n",
    "\n",
    "savefig(fig, \"persistent_identifier_familiarity\")\n",
    "plt.show()"
   ]
  },
  {
   "cell_type": "code",
   "execution_count": null,
   "id": "95ee3fba",
   "metadata": {},
   "outputs": [],
   "source": [
    "fig, ax = plt.subplots(ncols=3, sharey=True, figsize=(10, 4))\n",
    "\n",
    "fig.suptitle('Are your data formats defined or documented?').set_fontsize(heading_font_size)\n",
    "\n",
    "histogram_singlechoice(questions, 40, ax=ax[0], title='For input to analysis', order='defined')\n",
    "histogram_singlechoice(questions, 46, ax=ax[1], title='For output of analysis', order='defined')\n",
    "histogram_singlechoice(questions, 23, ax=ax[2], title='For plotting/tabulating', order='defined')\n",
    "\n",
    "\n",
    "ax[1].set_ylabel('')\n",
    "ax[2].set_ylabel('')\n",
    "\n",
    "fig.tight_layout(pad=0.3)\n",
    "\n",
    "savefig(fig, \"data_format_documentation\")\n",
    "plt.show()"
   ]
  },
  {
   "cell_type": "code",
   "execution_count": null,
   "id": "0216e193",
   "metadata": {},
   "outputs": [],
   "source": [
    "with open('10000.txt') as f:\n",
    "    common_words = f.read().split('\\n')\n",
    "\n",
    "common_words.extend(['e.g.', 'etc.', 'https', 'lattice', 'qcd', 'github.com'])\n",
    "common_words.remove('python')\n",
    "\n",
    "\n",
    "def condense_filter_words(question_id):\n",
    "    filtered_words = []\n",
    "    for response in questions.T.query(f'question_id=={question_id}').T.values[:, 0]:\n",
    "        if isinstance(response, str):\n",
    "            words = re.split('[\\n, /():]+', response)\n",
    "            for word in words:\n",
    "                if word.lower() not in common_words:\n",
    "                    filtered_words.append(word)\n",
    "\n",
    "    return filtered_words\n"
   ]
  },
  {
   "cell_type": "code",
   "execution_count": null,
   "id": "02c5fe34",
   "metadata": {},
   "outputs": [],
   "source": [
    "lattice_tools = wc_generator.generate(' '.join(condense_filter_words(34)))\n",
    "\n",
    "save_cloud(lattice_tools, \"lattice_tool_cloud\")\n",
    "\n",
    "plt.imshow(lattice_tools, interpolation=\"bilinear\")\n",
    "plt.axis(\"off\")\n",
    "plt.show()\n",
    "\n"
   ]
  },
  {
   "cell_type": "code",
   "execution_count": null,
   "id": "4ecf6978",
   "metadata": {},
   "outputs": [],
   "source": [
    "nonlattice_tools = wc_generator.generate(' '.join(condense_filter_words(35)))\n",
    "\n",
    "save_cloud(nonlattice_tools, \"nonlattice_tool_cloud\")\n",
    "\n",
    "plt.imshow(nonlattice_tools, interpolation=\"bilinear\")\n",
    "plt.axis(\"off\")\n",
    "plt.show()\n"
   ]
  },
  {
   "cell_type": "code",
   "execution_count": null,
   "id": "d59784ee",
   "metadata": {},
   "outputs": [],
   "source": [
    "fig, ax = histogram_singlechoice(questions, 53, order='automation')\n",
    "\n",
    "savefig(fig, \"how_automated\")\n",
    "plt.show()"
   ]
  },
  {
   "cell_type": "code",
   "execution_count": null,
   "id": "e9c3f7b2",
   "metadata": {},
   "outputs": [],
   "source": [
    "fig, ax = histogram_singlechoice(questions, 94, order='freq',\n",
    "                                 title=\"How often would your research benefit from access to others’ data?\")\n",
    "\n",
    "savefig(fig, \"benefit_from_others_data_frequency\")\n",
    "plt.show()"
   ]
  },
  {
   "cell_type": "code",
   "execution_count": null,
   "id": "14347d25",
   "metadata": {},
   "outputs": [],
   "source": [
    "fig, ax = histogram_singlechoice(questions, 83, order='close',\n",
    "                                title='How close is your data analysis/presentation workflow to where you want it to be?')\n",
    "\n",
    "savefig(fig, \"distance_from_ideal\")\n",
    "plt.show()"
   ]
  },
  {
   "cell_type": "code",
   "execution_count": null,
   "id": "6c2a9a73",
   "metadata": {},
   "outputs": [],
   "source": [
    "fig = plt.figure(constrained_layout=False, figsize=(8, 6))\n",
    "subfigs = fig.subfigures(nrows=4, ncols=1, height_ratios=(1, 10, 1, 10))\n",
    "\n",
    "ax = [\n",
    "    subfigs[1].subplots(nrows=1, ncols=2, sharey=True),\n",
    "    subfigs[3].subplots(nrows=1, ncols=2, sharey=True)\n",
    "]\n",
    "\n",
    "subfigs[0].suptitle('You have made data/code available \"on request\". Have you had requests?').set_fontsize(heading_font_size)\n",
    "subfigs[2].suptitle('How long did it take you to respond to these requests?').set_fontsize(heading_font_size)\n",
    "\n",
    "histogram_singlechoice(questions, 68, ax=ax[0][0], title='Data', order='binary')\n",
    "histogram_singlechoice(questions, 77, ax=ax[0][1], title='Code', order='binary')\n",
    "\n",
    "histogram_multichoice(questions, 69, ax=ax[1][0], title='Data', order='delay')\n",
    "histogram_multichoice(questions, 78, ax=ax[1][1], title='Code', order='delay')\n",
    "\n",
    "for row in ax:\n",
    "    row[1].set_ylabel('')\n",
    "\n",
    "subfigs[0].subplotpars.update(wspace=0)\n",
    "\n",
    "plt.tight_layout(pad=4)\n",
    "savefig(fig, \"on_request\")\n",
    "plt.show()"
   ]
  },
  {
   "cell_type": "code",
   "execution_count": null,
   "id": "f127b452",
   "metadata": {},
   "outputs": [],
   "source": [
    "fig, ax = plt.subplots(ncols=2, sharey=True, figsize=(8, 4))\n",
    "\n",
    "fig.suptitle('Have you made available the code used for data analysis/presentation…').set_fontsize(heading_font_size)\n",
    "\n",
    "histogram_singlechoice(questions, 71, ax=ax[0], title='For most recent publication?', order='binary')\n",
    "histogram_singlechoice(questions, 72, ax=ax[1], title='For other work?', order='binary')\n",
    "\n",
    "ax[1].set_ylabel('')\n",
    "\n",
    "fig.tight_layout(pad=0.3)\n",
    "\n",
    "savefig(fig, \"made_code_available\")\n",
    "plt.show()"
   ]
  },
  {
   "cell_type": "code",
   "execution_count": null,
   "id": "1d9a7c6e",
   "metadata": {},
   "outputs": [],
   "source": [
    "fig, ax = plt.subplots(ncols=2, sharey=True, figsize=(8, 4))\n",
    "fig.subplots_adjust(top=0.85)\n",
    "\n",
    "fig.suptitle('Why have you not made code available…').set_fontsize(heading_font_size)\n",
    "\n",
    "histogram_multichoice(questions, 73, ax=ax[0], title='For most recent publication?', order=None, rot=True)\n",
    "histogram_multichoice(questions, 74, ax=ax[1], title='In general?', order=None, rot=True)\n",
    "\n",
    "ax[1].set_ylabel('')\n",
    "\n",
    "#fig.tight_layout(pad=0.3)\n",
    "\n",
    "savefig(fig, \"why_not_made_code_available\")\n",
    "plt.show()"
   ]
  },
  {
   "cell_type": "code",
   "execution_count": null,
   "id": "ed3f4a07",
   "metadata": {},
   "outputs": [],
   "source": [
    "fig, ax = histogram_singlechoice(questions, 82, title=\"All else being equal, do you prefer text-baased or graphical tools?\")\n",
    "\n",
    "savefig(fig, \"text_or_graphical\")\n",
    "plt.show()"
   ]
  },
  {
   "cell_type": "code",
   "execution_count": null,
   "id": "0e04ed32",
   "metadata": {},
   "outputs": [],
   "source": [
    "fig, ax = histogram_singlechoice(questions, 85, title=\"If you had an automated workflow, would you consider\\npublishing it concurrently with the corresponding paper?\", order=\"binary\")\n",
    "\n",
    "savefig(fig, \"consider_publishing\")\n",
    "plt.show()"
   ]
  },
  {
   "cell_type": "code",
   "execution_count": null,
   "id": "7ad0ed94",
   "metadata": {},
   "outputs": [],
   "source": [
    "# TODO: Find a way to plot the non-binary ratings?\n",
    "# TODO: Find a way to include the free text entered for \"other\"\n",
    "\n",
    "fig, ax = histogram_singlechoice(questions, 90, title=\"Which is the most important to enable reproducibility of a publication?\", rot=True)\n",
    "\n",
    "savefig(fig, \"most_important_for_reproducibility\")\n",
    "plt.show()"
   ]
  },
  {
   "cell_type": "code",
   "execution_count": null,
   "id": "1e903202",
   "metadata": {},
   "outputs": [],
   "source": [
    "fig, ax = histogram_singlechoice(questions, 111, title=\"Would Open Science concepts be useful to your research?\", order='binary')\n",
    "\n",
    "savefig(fig, \"open_science_useful\")\n",
    "plt.show()"
   ]
  },
  {
   "cell_type": "code",
   "execution_count": null,
   "id": "67760baa",
   "metadata": {},
   "outputs": [],
   "source": [
    "data_publishing_services = wc_generator.generate(' '.join(condense_filter_words(67)))\n",
    "\n",
    "save_cloud(data_publishing_services, \"data_publishing_services_cloud\")\n",
    "\n",
    "plt.imshow(data_publishing_services, interpolation=\"bilinear\")\n",
    "plt.axis(\"off\")\n",
    "plt.show()"
   ]
  },
  {
   "cell_type": "code",
   "execution_count": null,
   "id": "c371ee0e",
   "metadata": {},
   "outputs": [],
   "source": [
    "code_publishing_services = wc_generator.generate(' '.join(condense_filter_words(76)))\n",
    "\n",
    "save_cloud(code_publishing_services, \"code_publishing_services_cloud\")\n",
    "\n",
    "plt.imshow(code_publishing_services, interpolation=\"bilinear\")\n",
    "plt.axis(\"off\")\n",
    "plt.show()"
   ]
  },
  {
   "cell_type": "code",
   "execution_count": null,
   "id": "d5c1223e",
   "metadata": {},
   "outputs": [],
   "source": [
    "incentives = wc_generator.generate(' '.join(condense_filter_words(110)))\n",
    "\n",
    "save_cloud(incentives, \"open_science_incentives_cloud\")\n",
    "\n",
    "plt.imshow(incentives, interpolation=\"bilinear\")\n",
    "plt.axis(\"off\")\n",
    "plt.show()"
   ]
  },
  {
   "cell_type": "code",
   "execution_count": null,
   "id": "e5e8c5f9",
   "metadata": {},
   "outputs": [],
   "source": []
  }
 ],
 "metadata": {
  "kernelspec": {
   "display_name": "latticesurvey-analysis",
   "language": "python",
   "name": "latticesurvey-analysis"
  },
  "language_info": {
   "codemirror_mode": {
    "name": "ipython",
    "version": 3
   },
   "file_extension": ".py",
   "mimetype": "text/x-python",
   "name": "python",
   "nbconvert_exporter": "python",
   "pygments_lexer": "ipython3",
   "version": "3.10.4"
  }
 },
 "nbformat": 4,
 "nbformat_minor": 5
}
